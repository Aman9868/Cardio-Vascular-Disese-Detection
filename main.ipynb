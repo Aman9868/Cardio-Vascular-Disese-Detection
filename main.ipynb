{
 "cells": [
  {
   "cell_type": "code",
   "execution_count": 24,
   "metadata": {},
   "outputs": [
    {
     "data": {
      "text/plain": [
       "'d:\\\\Cardio Disease Pyspark Web App\\\\venv\\\\lib\\\\site-packages\\\\pyspark'"
      ]
     },
     "execution_count": 24,
     "metadata": {},
     "output_type": "execute_result"
    }
   ],
   "source": [
    "import findspark\n",
    "findspark.init()\n",
    "findspark.find()"
   ]
  },
  {
   "cell_type": "code",
   "execution_count": 25,
   "metadata": {},
   "outputs": [],
   "source": [
    "from pyspark.sql import SparkSession\n",
    "import matplotlib.pyplot as plt\n",
    "import seaborn as sns\n",
    "from pyspark.sql.functions import col, sum,when,round\n",
    "from pyspark.mllib.stat import Statistics\n",
    "from pyspark.mllib.linalg import Vectors\n",
    "import pandas as pd\n",
    "spark=SparkSession.builder.appName('Sampleapp').getOrCreate()\n"
   ]
  },
  {
   "attachments": {},
   "cell_type": "markdown",
   "metadata": {},
   "source": [
    "# Read CSV"
   ]
  },
  {
   "cell_type": "code",
   "execution_count": 26,
   "metadata": {},
   "outputs": [
    {
     "name": "stdout",
     "output_type": "stream",
     "text": [
      "+----+-----+------+------+------+-----+-----+-----------+----+-----+----+------+------+\n",
      "|  id|  age|gender|height|weight|ap_hi|ap_lo|cholesterol|gluc|smoke|alco|active|cardio|\n",
      "+----+-----+------+------+------+-----+-----+-----------+----+-----+----+------+------+\n",
      "| 988|22469|     1|   155|  69.0|  130|   80|          2|   2|    0|   0|     1|     0|\n",
      "| 989|14648|     1|   163|  71.0|  110|   70|          1|   1|    0|   0|     1|     1|\n",
      "| 990|21901|     1|   165|  70.0|  120|   80|          1|   1|    0|   0|     1|     0|\n",
      "| 991|14549|     2|   165|  85.0|  120|   80|          1|   1|    1|   1|     1|     0|\n",
      "| 992|23393|     1|   155|  62.0|  120|   80|          1|   1|    0|   0|     1|     0|\n",
      "| 995|21143|     1|   164|  61.0|  100|   70|          1|   1|    0|   0|     1|     0|\n",
      "| 996|18085|     1|   162|  72.0|  100|   70|          1|   1|    0|   0|     1|     0|\n",
      "| 997|22547|     1|   161|  93.0|  140|   90|          2|   1|    0|   0|     1|     1|\n",
      "| 999|21250|     1|   157|  68.0|  110|   80|          1|   1|    0|   0|     1|     0|\n",
      "|1000|22446|     1|   158|  65.0|  140|   90|          3|   1|    0|   0|     1|     1|\n",
      "|1001|16621|     1|   153|  57.0|  120|   80|          3|   2|    0|   0|     1|     1|\n",
      "|1002|20442|     2|   169|  82.0|  130|   90|          1|   1|    0|   0|     1|     1|\n",
      "|1003|23168|     2|   150|  56.0|  130|   80|          2|   1|    0|   0|     1|     1|\n",
      "|1004|22598|     1|   176|  72.0|  130|   90|          1|   3|    0|   0|     1|     1|\n",
      "|1006|20317|     1|   154|  85.0|  160|  100|          3|   1|    0|   0|     1|     1|\n",
      "|1008|23558|     1|   159|  60.0|  120|   80|          1|   1|    0|   0|     1|     1|\n",
      "|1010|20219|     2|   146|  45.0|  120|   80|          1|   1|    0|   0|     1|     0|\n",
      "|1011|19559|     1|   165|  90.0|  140|   90|          1|   1|    0|   0|     1|     1|\n",
      "|1013|20006|     2|   167|  65.0|  120|   80|          1|   1|    0|   0|     0|     0|\n",
      "|1014|19054|     1|   154|  70.0|  110|   70|          1|   1|    0|   0|     1|     0|\n",
      "+----+-----+------+------+------+-----+-----+-----------+----+-----+----+------+------+\n",
      "only showing top 20 rows\n",
      "\n"
     ]
    }
   ],
   "source": [
    "df=spark.read.csv('D:/R/CardioVascularDisease/cardio_train.csv',header=True,sep=\";\")\n",
    "df.cache()\n",
    "df.show()"
   ]
  },
  {
   "cell_type": "code",
   "execution_count": 27,
   "metadata": {},
   "outputs": [
    {
     "name": "stdout",
     "output_type": "stream",
     "text": [
      "Number of Rows are : 69301\n",
      "Number of Columns are : 13\n"
     ]
    }
   ],
   "source": [
    "rows=df.count()\n",
    "cols=len(df.columns)\n",
    "print('Number of Rows are :',rows)\n",
    "print('Number of Columns are :',cols)"
   ]
  },
  {
   "cell_type": "code",
   "execution_count": 28,
   "metadata": {},
   "outputs": [
    {
     "name": "stdout",
     "output_type": "stream",
     "text": [
      "root\n",
      " |-- id: string (nullable = true)\n",
      " |-- age: string (nullable = true)\n",
      " |-- gender: string (nullable = true)\n",
      " |-- height: string (nullable = true)\n",
      " |-- weight: string (nullable = true)\n",
      " |-- ap_hi: string (nullable = true)\n",
      " |-- ap_lo: string (nullable = true)\n",
      " |-- cholesterol: string (nullable = true)\n",
      " |-- gluc: string (nullable = true)\n",
      " |-- smoke: string (nullable = true)\n",
      " |-- alco: string (nullable = true)\n",
      " |-- active: string (nullable = true)\n",
      " |-- cardio: string (nullable = true)\n",
      "\n"
     ]
    }
   ],
   "source": [
    "df.printSchema()"
   ]
  },
  {
   "attachments": {},
   "cell_type": "markdown",
   "metadata": {},
   "source": [
    "# Modify Schema"
   ]
  },
  {
   "cell_type": "code",
   "execution_count": 29,
   "metadata": {},
   "outputs": [
    {
     "name": "stdout",
     "output_type": "stream",
     "text": [
      "root\n",
      " |-- id: string (nullable = true)\n",
      " |-- age: integer (nullable = true)\n",
      " |-- gender: integer (nullable = true)\n",
      " |-- height: integer (nullable = true)\n",
      " |-- weight: float (nullable = true)\n",
      " |-- ap_hi: integer (nullable = true)\n",
      " |-- ap_lo: integer (nullable = true)\n",
      " |-- cholesterol: integer (nullable = true)\n",
      " |-- gluc: integer (nullable = true)\n",
      " |-- smoke: integer (nullable = true)\n",
      " |-- alco: integer (nullable = true)\n",
      " |-- active: integer (nullable = true)\n",
      " |-- cardio: integer (nullable = true)\n",
      "\n"
     ]
    }
   ],
   "source": [
    "# Change Schema\n",
    "df=df.withColumn(\"weight\",col('weight').cast('float'))\n",
    "cols=['age','gender','height','ap_hi','ap_lo','cholesterol','gluc','smoke','alco','active','cardio']\n",
    "for i in cols:\n",
    "    df=df.withColumn(i,col(i).cast('integer'))\n",
    "\n",
    "df.printSchema()"
   ]
  },
  {
   "attachments": {},
   "cell_type": "markdown",
   "metadata": {},
   "source": [
    "# NA Values"
   ]
  },
  {
   "cell_type": "code",
   "execution_count": 30,
   "metadata": {},
   "outputs": [
    {
     "data": {
      "image/png": "[encoded data removed]",
      "text/plain": [
       "<Figure size 600x600 with 1 Axes>"
      ]
     },
     "metadata": {},
     "output_type": "display_data"
    }
   ],
   "source": [
    "\n",
    "\n",
    "null_counts = df.select([sum(col(col_name).isNull().cast('int')).alias(col_name) for col_name in df.columns])\n",
    "# Convert the null counts DataFrame to Pandas for visualization\n",
    "null_counts_pd = null_counts.toPandas()\n",
    "plt.figure(figsize=(6,6))\n",
    "sns.barplot(data=null_counts_pd)\n",
    "plt.xlabel('Columns')\n",
    "plt.ylabel('Null Value Count')\n",
    "plt.title('Null Values in DataFrame')\n",
    "plt.xticks(rotation=90)\n",
    "plt.show()"
   ]
  },
  {
   "cell_type": "code",
   "execution_count": 31,
   "metadata": {},
   "outputs": [
    {
     "name": "stdout",
     "output_type": "stream",
     "text": [
      "+---+---+------+------+------+-----+-----+-----------+----+-----+----+------+------+-----+\n",
      "| id|age|gender|height|weight|ap_hi|ap_lo|cholesterol|gluc|smoke|alco|active|cardio|count|\n",
      "+---+---+------+------+------+-----+-----+-----------+----+-----+----+------+------+-----+\n",
      "+---+---+------+------+------+-----+-----+-----------+----+-----+----+------+------+-----+\n",
      "\n"
     ]
    }
   ],
   "source": [
    "# Dupicates\n",
    "dup_count=df.groupBy(df.columns).count()\n",
    "duplicate=dup_count.where(col('count')>1)\n",
    "duplicate.show()"
   ]
  },
  {
   "attachments": {},
   "cell_type": "markdown",
   "metadata": {},
   "source": [
    "# Class with Labels"
   ]
  },
  {
   "cell_type": "code",
   "execution_count": 32,
   "metadata": {},
   "outputs": [
    {
     "name": "stdout",
     "output_type": "stream",
     "text": [
      "Distinct classes and counts in gender:\n",
      "Class: 1, Count: 45079\n",
      "Class: 2, Count: 24222\n",
      "\n",
      "Distinct classes and counts in cardio:\n",
      "Class: 1, Count: 34622\n",
      "Class: 0, Count: 34679\n",
      "\n",
      "Distinct classes and counts in smoke:\n",
      "Class: 1, Count: 6102\n",
      "Class: 0, Count: 63199\n",
      "\n",
      "Distinct classes and counts in gluc:\n",
      "Class: 1, Count: 58885\n",
      "Class: 3, Count: 5277\n",
      "Class: 2, Count: 5139\n",
      "\n"
     ]
    }
   ],
   "source": [
    "# Unique Values\n",
    "sd=['gender','cardio','smoke','gluc']\n",
    "for column_name in sd:\n",
    "    class_counts = df.groupBy(column_name).count().collect()\n",
    "    print(f\"Distinct classes and counts in {column_name}:\")\n",
    "    for row in class_counts:\n",
    "        class_value = row[column_name]\n",
    "        count = row[\"count\"]\n",
    "        print(f\"Class: {class_value}, Count: {count}\")\n",
    "    print()"
   ]
  },
  {
   "attachments": {},
   "cell_type": "markdown",
   "metadata": {},
   "source": [
    "# Visualization"
   ]
  },
  {
   "cell_type": "code",
   "execution_count": 33,
   "metadata": {},
   "outputs": [
    {
     "data": {
      "image/png": "[encoded data removed]",
      "text/plain": [
       "<Figure size 1000x1500 with 4 Axes>"
      ]
     },
     "metadata": {},
     "output_type": "display_data"
    }
   ],
   "source": [
    "boxes=['age','height','weight','ap_hi']\n",
    "pandabox=df.select(boxes).toPandas()\n",
    "# VISUALISING BOXPLOT\n",
    "fig, ax = plt.subplots(2, 2, figsize=(10, 15))\n",
    "for i, (variable, subplot) in enumerate(zip(boxes, ax.flatten())):\n",
    "    sns.boxplot(pandabox[variable], ax=subplot)\n",
    "    subplot.set_title(variable)  # Set the title to the column name\n",
    "    subplot.tick_params(axis='x', rotation=90)  # Rotate x-axis labels\n",
    "\n",
    "plt.tight_layout()  # Adjust the layout to prevent overlapping\n",
    "plt.show()"
   ]
  },
  {
   "attachments": {},
   "cell_type": "markdown",
   "metadata": {},
   "source": [
    "# Outlier Treatment"
   ]
  },
  {
   "cell_type": "code",
   "execution_count": 34,
   "metadata": {},
   "outputs": [
    {
     "name": "stdout",
     "output_type": "stream",
     "text": [
      "+----+-------+------+------+------+-----+-----+-----------+----+-----+----+------+------+\n",
      "|  id|    age|gender|height|weight|ap_hi|ap_lo|cholesterol|gluc|smoke|alco|active|cardio|\n",
      "+----+-------+------+------+------+-----+-----+-----------+----+-----+----+------+------+\n",
      "| 988|22469.0|     1| 155.0|  69.0|130.0|   80|          2|   2|    0|   0|     1|     0|\n",
      "| 989|14648.0|     1| 163.0|  71.0|110.0|   70|          1|   1|    0|   0|     1|     1|\n",
      "| 990|21901.0|     1| 165.0|  70.0|120.0|   80|          1|   1|    0|   0|     1|     0|\n",
      "| 991|14549.0|     2| 165.0|  85.0|120.0|   80|          1|   1|    1|   1|     1|     0|\n",
      "| 992|23393.0|     1| 155.0|  62.0|120.0|   80|          1|   1|    0|   0|     1|     0|\n",
      "| 995|21143.0|     1| 164.0|  61.0|100.0|   70|          1|   1|    0|   0|     1|     0|\n",
      "| 996|18085.0|     1| 162.0|  72.0|100.0|   70|          1|   1|    0|   0|     1|     0|\n",
      "| 997|22547.0|     1| 161.0|  93.0|140.0|   90|          2|   1|    0|   0|     1|     1|\n",
      "| 999|21250.0|     1| 157.0|  68.0|110.0|   80|          1|   1|    0|   0|     1|     0|\n",
      "|1000|22446.0|     1| 158.0|  65.0|140.0|   90|          3|   1|    0|   0|     1|     1|\n",
      "|1001|16621.0|     1| 153.0|  57.0|120.0|   80|          3|   2|    0|   0|     1|     1|\n",
      "|1002|20442.0|     2| 169.0|  82.0|130.0|   90|          1|   1|    0|   0|     1|     1|\n",
      "|1003|23168.0|     2| 150.0|  56.0|130.0|   80|          2|   1|    0|   0|     1|     1|\n",
      "|1004|22598.0|     1| 176.0|  72.0|130.0|   90|          1|   3|    0|   0|     1|     1|\n",
      "|1006|20317.0|     1| 154.0|  85.0|160.0|  100|          3|   1|    0|   0|     1|     1|\n",
      "|1008|23558.0|     1| 159.0|  60.0|120.0|   80|          1|   1|    0|   0|     1|     1|\n",
      "|1010|20219.0|     2| 146.0|  45.0|120.0|   80|          1|   1|    0|   0|     1|     0|\n",
      "|1011|19559.0|     1| 165.0|  90.0|140.0|   90|          1|   1|    0|   0|     1|     1|\n",
      "|1013|20006.0|     2| 167.0|  65.0|120.0|   80|          1|   1|    0|   0|     0|     0|\n",
      "|1014|19054.0|     1| 154.0|  70.0|110.0|   70|          1|   1|    0|   0|     1|     0|\n",
      "+----+-------+------+------+------+-----+-----+-----------+----+-----+----+------+------+\n",
      "only showing top 20 rows\n",
      "\n"
     ]
    }
   ],
   "source": [
    "# Outlier finder\n",
    "\n",
    "def out_find(data,colname):\n",
    "    for i in colname:\n",
    "        quantiles=data.approxQuantile(i,[0.25,0.75],0.01)\n",
    "        q1=quantiles[0]\n",
    "        q3=quantiles[1]\n",
    "        iqr=q3-q1\n",
    "        lower=q1-(1.5*iqr)\n",
    "        upper=q3+(1.5*iqr)\n",
    "     # Identify the outliers based on the bounds\n",
    "        data = data.withColumn(i, when(col(i) < lower, lower)\n",
    "                                          .when(col(i) > upper, upper)\n",
    "                                          .otherwise(col(i)))\n",
    "\n",
    "    return data\n",
    "boxes=['age','height','weight','ap_hi']\n",
    "df = out_find(df, boxes)\n",
    "df.show()"
   ]
  },
  {
   "cell_type": "code",
   "execution_count": 35,
   "metadata": {},
   "outputs": [
    {
     "data": {
      "text/plain": [
       "<Axes: >"
      ]
     },
     "execution_count": 35,
     "metadata": {},
     "output_type": "execute_result"
    },
    {
     "data": {
      "image/png": "[encoded data removed]",
      "text/plain": [
       "<Figure size 640x480 with 1 Axes>"
      ]
     },
     "metadata": {},
     "output_type": "display_data"
    }
   ],
   "source": [
    "sample=df.select('age').toPandas()\n",
    "sns.boxplot(sample)"
   ]
  },
  {
   "attachments": {},
   "cell_type": "markdown",
   "metadata": {},
   "source": [
    "# Feature Engineering"
   ]
  },
  {
   "cell_type": "code",
   "execution_count": 36,
   "metadata": {},
   "outputs": [
    {
     "name": "stdout",
     "output_type": "stream",
     "text": [
      "+----+----+------+------+------+-----+-----+-----------+----+-----+----+------+------+--------------------+\n",
      "|  id| age|gender|height|weight|ap_hi|ap_lo|cholesterol|gluc|smoke|alco|active|cardio|                 bmi|\n",
      "+----+----+------+------+------+-----+-----+-----------+----+-----+----+------+------+--------------------+\n",
      "| 988|62.0|     1| 155.0|  69.0|130.0|   80|          2|   2|    0|   0|     1|     0|0.002872008324661...|\n",
      "| 989|40.0|     1| 163.0|  71.0|110.0|   70|          1|   1|    0|   0|     1|     1|0.002672287252060672|\n",
      "| 990|60.0|     1| 165.0|  70.0|120.0|   80|          1|   1|    0|   0|     1|     0|0.002571166207529...|\n",
      "| 991|40.0|     2| 165.0|  85.0|120.0|   80|          1|   1|    1|   1|     1|     0|0.003122130394857...|\n",
      "| 992|64.0|     1| 155.0|  62.0|120.0|   80|          1|   1|    0|   0|     1|     0|0.002580645161290...|\n",
      "| 995|58.0|     1| 164.0|  61.0|100.0|   70|          1|   1|    0|   0|     1|     0|0.002267995240928019|\n",
      "| 996|50.0|     1| 162.0|  72.0|100.0|   70|          1|   1|    0|   0|     1|     0|0.002743484224965...|\n",
      "| 997|62.0|     1| 161.0|  93.0|140.0|   90|          2|   1|    0|   0|     1|     1|0.003587824543806...|\n",
      "| 999|58.0|     1| 157.0|  68.0|110.0|   80|          1|   1|    0|   0|     1|     0|0.002758732605785...|\n",
      "|1000|61.0|     1| 158.0|  65.0|140.0|   90|          3|   1|    0|   0|     1|     1|0.002603749399134754|\n",
      "|1001|46.0|     1| 153.0|  57.0|120.0|   80|          3|   2|    0|   0|     1|     1|0.002434960912469563|\n",
      "|1002|56.0|     2| 169.0|  82.0|130.0|   90|          1|   1|    0|   0|     1|     1|0.002871047932495...|\n",
      "|1003|63.0|     2| 150.0|  56.0|130.0|   80|          2|   1|    0|   0|     1|     1|0.002488888888888889|\n",
      "|1004|62.0|     1| 176.0|  72.0|130.0|   90|          1|   3|    0|   0|     1|     1|0.002324380165289...|\n",
      "|1006|56.0|     1| 154.0|  85.0|160.0|  100|          3|   1|    0|   0|     1|     1|0.003584078259402...|\n",
      "|1008|65.0|     1| 159.0|  60.0|120.0|   80|          1|   1|    0|   0|     1|     1|0.002373323840037...|\n",
      "|1010|55.0|     2| 146.0|  45.0|120.0|   80|          1|   1|    0|   0|     1|     0| 0.00211109026083693|\n",
      "|1011|54.0|     1| 165.0|  90.0|140.0|   90|          1|   1|    0|   0|     1|     1|0.003305785123966942|\n",
      "|1013|55.0|     2| 167.0|  65.0|120.0|   80|          1|   1|    0|   0|     0|     0|0.002330668005306...|\n",
      "|1014|52.0|     1| 154.0|  70.0|110.0|   70|          1|   1|    0|   0|     1|     0|0.002951593860684...|\n",
      "+----+----+------+------+------+-----+-----+-----------+----+-----+----+------+------+--------------------+\n",
      "only showing top 20 rows\n",
      "\n"
     ]
    }
   ],
   "source": [
    "df=df.withColumn('bmi',col('weight')/col('height')**2)\n",
    "# age in years\n",
    "df=df.withColumn('age',round(col('age')/365))\n",
    "df.show()"
   ]
  },
  {
   "attachments": {},
   "cell_type": "markdown",
   "metadata": {},
   "source": [
    "# Correlation Matrix"
   ]
  },
  {
   "cell_type": "code",
   "execution_count": 37,
   "metadata": {},
   "outputs": [
    {
     "name": "stdout",
     "output_type": "stream",
     "text": [
      "             age    height    weight     ap_hi       bmi\n",
      "age     1.000000 -0.086339  0.060077  0.209508  0.109590\n",
      "height -0.086339  1.000000  0.316015  0.016549 -0.217706\n",
      "weight  0.060077  0.316015  1.000000  0.274898  0.852751\n",
      "ap_hi   0.209508  0.016549  0.274898  1.000000  0.272436\n",
      "bmi     0.109590 -0.217706  0.852751  0.272436  1.000000\n"
     ]
    },
    {
     "data": {
      "image/png": "[encoded data removed]",
      "text/plain": [
       "<Figure size 900x300 with 2 Axes>"
      ]
     },
     "metadata": {},
     "output_type": "display_data"
    }
   ],
   "source": [
    "numcols=['age','height','weight','ap_hi','bmi']\n",
    "data=df.select(numcols)\n",
    "# Convert df into rdd of vectors\n",
    "rdd_vect=data.rdd.map(lambda row: Vectors.dense(row))\n",
    "corr_mat=Statistics.corr(rdd_vect,method='pearson')\n",
    "corr_df=pd.DataFrame(corr_mat,columns=numcols,index=numcols)\n",
    "print(corr_df)\n",
    "plt.figure(figsize=(9,3))\n",
    "sns.heatmap(corr_df,annot=True,cmap='coolwarm',cbar_kws={\"aspect\":60})\n",
    "plt.show()"
   ]
  },
  {
   "attachments": {},
   "cell_type": "markdown",
   "metadata": {},
   "source": [
    "# Aggregation"
   ]
  },
  {
   "cell_type": "code",
   "execution_count": 38,
   "metadata": {},
   "outputs": [
    {
     "name": "stdout",
     "output_type": "stream",
     "text": [
      "+------+-----------------+------------------+-----------+-----------+\n",
      "|cardio|      avg(weight)|       avg(height)|max(weight)|min(weight)|\n",
      "+------+-----------------+------------------+-----------+-----------+\n",
      "|     1|76.41980821460642| 164.3125324937901|      107.5|       39.5|\n",
      "|     0|71.43265520918241|164.50673318146428|      107.5|       39.5|\n",
      "+------+-----------------+------------------+-----------+-----------+\n",
      "\n",
      "+------+-----------------+------------------+-----------+-----------+\n",
      "|gender|      avg(weight)|       avg(height)|max(weight)|min(weight)|\n",
      "+------+-----------------+------------------+-----------+-----------+\n",
      "|     1|72.31868386637252|161.41679052330355|      107.5|       39.5|\n",
      "|     2|76.91213359727246|169.97977045660969|      107.5|       39.5|\n",
      "+------+-----------------+------------------+-----------+-----------+\n",
      "\n",
      "+----+----+------+------+------+-----+-----+-----------+----+-----+----+------+------+--------------------+\n",
      "|  id| age|gender|height|weight|ap_hi|ap_lo|cholesterol|gluc|smoke|alco|active|cardio|                 bmi|\n",
      "+----+----+------+------+------+-----+-----+-----------+----+-----+----+------+------+--------------------+\n",
      "|1022|65.0|     1| 163.0| 103.0|140.0|  100|          1|   1|    0|   0|     1|     1|0.003876698407919...|\n",
      "|1040|52.0|     1| 179.0| 107.5|140.0|   90|          3|   3|    0|   0|     0|     1| 0.00335507630847976|\n",
      "|1098|52.0|     1| 152.0| 107.5|120.0|   80|          2|   2|    0|   0|     1|     1|0.004652873961218836|\n",
      "|1187|44.0|     1| 162.0| 107.5|110.0|   70|          1|   3|    0|   0|     1|     1|0.004096174363664076|\n",
      "|1289|54.0|     1| 156.0| 105.0|130.0|   80|          2|   1|    0|   0|     1|     1|0.004314595660749507|\n",
      "|1330|52.0|     1| 156.0| 107.5|150.0|   90|          1|   1|    0|   0|     0|     1| 0.00441732412886259|\n",
      "|1457|52.0|     1| 170.0| 107.5|150.0|  100|          2|   2|    0|   0|     0|     1|0.003719723183391...|\n",
      "|1470|60.0|     1| 180.0| 102.0|140.0|   90|          1|   1|    0|   0|     1|     1|0.003148148148148148|\n",
      "|1568|56.0|     1| 175.0| 105.0|130.0|   90|          2|   3|    0|   0|     1|     1|0.003428571428571...|\n",
      "|1633|57.0|     1| 162.0| 107.5|160.0|   90|          3|   2|    1|   0|     1|     1|0.004096174363664076|\n",
      "|1673|54.0|     1| 171.0| 107.5|140.0|   90|          1|   1|    0|   0|     1|     1|0.003676344858246982|\n",
      "|1794|58.0|     1| 170.0| 107.5|140.0|   90|          1|   1|    0|   0|     1|     1|0.003719723183391...|\n",
      "|1796|51.0|     1| 171.0| 104.0|140.0|   90|          3|   3|    0|   0|     1|     1|0.003556649909373...|\n",
      "|1842|50.0|     1| 159.0| 101.0|130.0|   80|          1|   1|    0|   0|     0|     1|0.003995095130730588|\n",
      "|1918|58.0|     1| 161.0| 104.0|170.0|  100|          2|   2|    0|   0|     1|     1|0.004012190887697234|\n",
      "|1938|64.0|     1| 160.0| 107.5|120.0|   60|          1|   1|    0|   0|     1|     1|       0.00419921875|\n",
      "|2093|56.0|     1| 157.0| 107.5|150.0|   90|          3|   3|    0|   0|     0|     1|0.004361231692969289|\n",
      "|2116|54.0|     1| 160.0| 102.0|140.0|   90|          3|   1|    0|   0|     1|     1|         0.003984375|\n",
      "|2125|52.0|     1| 165.0| 105.0|160.0|   80|          1|   1|    0|   1|     1|     1|0.003856749311294766|\n",
      "|2139|63.0|     1| 164.0| 102.0|150.0|   90|          2|   1|    0|   0|     1|     1|0.003792385484830458|\n",
      "+----+----+------+------+------+-----+-----+-----------+----+-----+----+------+------+--------------------+\n",
      "only showing top 20 rows\n",
      "\n",
      "+------+-----+\n",
      "|cardio|count|\n",
      "+------+-----+\n",
      "|     1|34622|\n",
      "|     0|34679|\n",
      "+------+-----+\n",
      "\n"
     ]
    }
   ],
   "source": [
    "from pyspark.sql import functions as f\n",
    "cardio=df.groupBy('cardio').agg(f.avg('weight'),f.avg('height'),f.max('weight'),f.min('weight')).show()\n",
    "gen=df.groupBy('gender').agg(f.avg('weight'),f.avg('height'),f.max('weight'),f.min('weight')).show()\n",
    "ages=df.where((df['weight']>100)&(df['gender']==1) &(df['cardio']==1)).show()\n",
    "total_class=df.groupBy('cardio').count().show()"
   ]
  },
  {
   "attachments": {},
   "cell_type": "markdown",
   "metadata": {},
   "source": [
    "# Build Pipeline(String Indexer>Onehot Encoding>Vector Assembler>Minmax)"
   ]
  },
  {
   "cell_type": "code",
   "execution_count": 39,
   "metadata": {},
   "outputs": [
    {
     "name": "stdout",
     "output_type": "stream",
     "text": [
      "+----+----+------+------+------+-----+-----+-----------+----+-----+----+------+------+--------------------+------------+--------------+-----------------+-------------------+----------+-------------+-----------+-------------+----------+-------------+------------+--------------+--------------------+--------------------+\n",
      "|  id| age|gender|height|weight|ap_hi|ap_lo|cholesterol|gluc|smoke|alco|active|cardio|                 bmi|gender_index|gender_encoded|cholesterol_index|cholesterol_encoded|gluc_index| gluc_encoded|smoke_index|smoke_encoded|alco_index| alco_encoded|active_index|active_encoded|  assembled_features|     scaled_features|\n",
      "+----+----+------+------+------+-----+-----+-----------+----+-----+----+------+------+--------------------+------------+--------------+-----------------+-------------------+----------+-------------+-----------+-------------+----------+-------------+------------+--------------+--------------------+--------------------+\n",
      "| 988|62.0|     1| 155.0|  69.0|130.0|   80|          2|   2|    0|   0|     1|     0|0.002872008324661...|         0.0| (1,[0],[1.0])|              1.0|      (2,[1],[1.0])|       2.0|    (2,[],[])|        0.0|(1,[0],[1.0])|       0.0|(1,[0],[1.0])|         0.0| (1,[0],[1.0])|[1.0,0.0,1.0,0.0,...|[1.0,0.0,1.0,0.0,...|\n",
      "| 989|40.0|     1| 163.0|  71.0|110.0|   70|          1|   1|    0|   0|     1|     1|0.002672287252060672|         0.0| (1,[0],[1.0])|              0.0|      (2,[0],[1.0])|       0.0|(2,[0],[1.0])|        0.0|(1,[0],[1.0])|       0.0|(1,[0],[1.0])|         0.0| (1,[0],[1.0])|[1.0,1.0,0.0,1.0,...|[1.0,1.0,0.0,1.0,...|\n",
      "| 990|60.0|     1| 165.0|  70.0|120.0|   80|          1|   1|    0|   0|     1|     0|0.002571166207529...|         0.0| (1,[0],[1.0])|              0.0|      (2,[0],[1.0])|       0.0|(2,[0],[1.0])|        0.0|(1,[0],[1.0])|       0.0|(1,[0],[1.0])|         0.0| (1,[0],[1.0])|[1.0,1.0,0.0,1.0,...|[1.0,1.0,0.0,1.0,...|\n",
      "| 991|40.0|     2| 165.0|  85.0|120.0|   80|          1|   1|    1|   1|     1|     0|0.003122130394857...|         1.0|     (1,[],[])|              0.0|      (2,[0],[1.0])|       0.0|(2,[0],[1.0])|        1.0|    (1,[],[])|       1.0|    (1,[],[])|         0.0| (1,[0],[1.0])|[0.0,1.0,0.0,1.0,...|[0.0,1.0,0.0,1.0,...|\n",
      "| 992|64.0|     1| 155.0|  62.0|120.0|   80|          1|   1|    0|   0|     1|     0|0.002580645161290...|         0.0| (1,[0],[1.0])|              0.0|      (2,[0],[1.0])|       0.0|(2,[0],[1.0])|        0.0|(1,[0],[1.0])|       0.0|(1,[0],[1.0])|         0.0| (1,[0],[1.0])|[1.0,1.0,0.0,1.0,...|[1.0,1.0,0.0,1.0,...|\n",
      "| 995|58.0|     1| 164.0|  61.0|100.0|   70|          1|   1|    0|   0|     1|     0|0.002267995240928019|         0.0| (1,[0],[1.0])|              0.0|      (2,[0],[1.0])|       0.0|(2,[0],[1.0])|        0.0|(1,[0],[1.0])|       0.0|(1,[0],[1.0])|         0.0| (1,[0],[1.0])|[1.0,1.0,0.0,1.0,...|[1.0,1.0,0.0,1.0,...|\n",
      "| 996|50.0|     1| 162.0|  72.0|100.0|   70|          1|   1|    0|   0|     1|     0|0.002743484224965...|         0.0| (1,[0],[1.0])|              0.0|      (2,[0],[1.0])|       0.0|(2,[0],[1.0])|        0.0|(1,[0],[1.0])|       0.0|(1,[0],[1.0])|         0.0| (1,[0],[1.0])|[1.0,1.0,0.0,1.0,...|[1.0,1.0,0.0,1.0,...|\n",
      "| 997|62.0|     1| 161.0|  93.0|140.0|   90|          2|   1|    0|   0|     1|     1|0.003587824543806...|         0.0| (1,[0],[1.0])|              1.0|      (2,[1],[1.0])|       0.0|(2,[0],[1.0])|        0.0|(1,[0],[1.0])|       0.0|(1,[0],[1.0])|         0.0| (1,[0],[1.0])|[1.0,0.0,1.0,1.0,...|[1.0,0.0,1.0,1.0,...|\n",
      "| 999|58.0|     1| 157.0|  68.0|110.0|   80|          1|   1|    0|   0|     1|     0|0.002758732605785...|         0.0| (1,[0],[1.0])|              0.0|      (2,[0],[1.0])|       0.0|(2,[0],[1.0])|        0.0|(1,[0],[1.0])|       0.0|(1,[0],[1.0])|         0.0| (1,[0],[1.0])|[1.0,1.0,0.0,1.0,...|[1.0,1.0,0.0,1.0,...|\n",
      "|1000|61.0|     1| 158.0|  65.0|140.0|   90|          3|   1|    0|   0|     1|     1|0.002603749399134754|         0.0| (1,[0],[1.0])|              2.0|          (2,[],[])|       0.0|(2,[0],[1.0])|        0.0|(1,[0],[1.0])|       0.0|(1,[0],[1.0])|         0.0| (1,[0],[1.0])|[1.0,0.0,0.0,1.0,...|[1.0,0.0,0.0,1.0,...|\n",
      "|1001|46.0|     1| 153.0|  57.0|120.0|   80|          3|   2|    0|   0|     1|     1|0.002434960912469563|         0.0| (1,[0],[1.0])|              2.0|          (2,[],[])|       2.0|    (2,[],[])|        0.0|(1,[0],[1.0])|       0.0|(1,[0],[1.0])|         0.0| (1,[0],[1.0])|[1.0,0.0,0.0,0.0,...|[1.0,0.0,0.0,0.0,...|\n",
      "|1002|56.0|     2| 169.0|  82.0|130.0|   90|          1|   1|    0|   0|     1|     1|0.002871047932495...|         1.0|     (1,[],[])|              0.0|      (2,[0],[1.0])|       0.0|(2,[0],[1.0])|        0.0|(1,[0],[1.0])|       0.0|(1,[0],[1.0])|         0.0| (1,[0],[1.0])|[0.0,1.0,0.0,1.0,...|[0.0,1.0,0.0,1.0,...|\n",
      "|1003|63.0|     2| 150.0|  56.0|130.0|   80|          2|   1|    0|   0|     1|     1|0.002488888888888889|         1.0|     (1,[],[])|              1.0|      (2,[1],[1.0])|       0.0|(2,[0],[1.0])|        0.0|(1,[0],[1.0])|       0.0|(1,[0],[1.0])|         0.0| (1,[0],[1.0])|[0.0,0.0,1.0,1.0,...|[0.0,0.0,1.0,1.0,...|\n",
      "|1004|62.0|     1| 176.0|  72.0|130.0|   90|          1|   3|    0|   0|     1|     1|0.002324380165289...|         0.0| (1,[0],[1.0])|              0.0|      (2,[0],[1.0])|       1.0|(2,[1],[1.0])|        0.0|(1,[0],[1.0])|       0.0|(1,[0],[1.0])|         0.0| (1,[0],[1.0])|[1.0,1.0,0.0,0.0,...|[1.0,1.0,0.0,0.0,...|\n",
      "|1006|56.0|     1| 154.0|  85.0|160.0|  100|          3|   1|    0|   0|     1|     1|0.003584078259402...|         0.0| (1,[0],[1.0])|              2.0|          (2,[],[])|       0.0|(2,[0],[1.0])|        0.0|(1,[0],[1.0])|       0.0|(1,[0],[1.0])|         0.0| (1,[0],[1.0])|[1.0,0.0,0.0,1.0,...|[1.0,0.0,0.0,1.0,...|\n",
      "|1008|65.0|     1| 159.0|  60.0|120.0|   80|          1|   1|    0|   0|     1|     1|0.002373323840037...|         0.0| (1,[0],[1.0])|              0.0|      (2,[0],[1.0])|       0.0|(2,[0],[1.0])|        0.0|(1,[0],[1.0])|       0.0|(1,[0],[1.0])|         0.0| (1,[0],[1.0])|[1.0,1.0,0.0,1.0,...|[1.0,1.0,0.0,1.0,...|\n",
      "|1010|55.0|     2| 146.0|  45.0|120.0|   80|          1|   1|    0|   0|     1|     0| 0.00211109026083693|         1.0|     (1,[],[])|              0.0|      (2,[0],[1.0])|       0.0|(2,[0],[1.0])|        0.0|(1,[0],[1.0])|       0.0|(1,[0],[1.0])|         0.0| (1,[0],[1.0])|[0.0,1.0,0.0,1.0,...|[0.0,1.0,0.0,1.0,...|\n",
      "|1011|54.0|     1| 165.0|  90.0|140.0|   90|          1|   1|    0|   0|     1|     1|0.003305785123966942|         0.0| (1,[0],[1.0])|              0.0|      (2,[0],[1.0])|       0.0|(2,[0],[1.0])|        0.0|(1,[0],[1.0])|       0.0|(1,[0],[1.0])|         0.0| (1,[0],[1.0])|[1.0,1.0,0.0,1.0,...|[1.0,1.0,0.0,1.0,...|\n",
      "|1013|55.0|     2| 167.0|  65.0|120.0|   80|          1|   1|    0|   0|     0|     0|0.002330668005306...|         1.0|     (1,[],[])|              0.0|      (2,[0],[1.0])|       0.0|(2,[0],[1.0])|        0.0|(1,[0],[1.0])|       0.0|(1,[0],[1.0])|         1.0|     (1,[],[])|[0.0,1.0,0.0,1.0,...|[0.0,1.0,0.0,1.0,...|\n",
      "|1014|52.0|     1| 154.0|  70.0|110.0|   70|          1|   1|    0|   0|     1|     0|0.002951593860684...|         0.0| (1,[0],[1.0])|              0.0|      (2,[0],[1.0])|       0.0|(2,[0],[1.0])|        0.0|(1,[0],[1.0])|       0.0|(1,[0],[1.0])|         0.0| (1,[0],[1.0])|[1.0,1.0,0.0,1.0,...|[1.0,1.0,0.0,1.0,...|\n",
      "+----+----+------+------+------+-----+-----+-----------+----+-----+----+------+------+--------------------+------------+--------------+-----------------+-------------------+----------+-------------+-----------+-------------+----------+-------------+------------+--------------+--------------------+--------------------+\n",
      "only showing top 20 rows\n",
      "\n"
     ]
    }
   ],
   "source": [
    "# One hot encoding of categories\n",
    "from pyspark.ml.feature import OneHotEncoder,VectorAssembler,StringIndexer\n",
    "from pyspark.ml import Pipeline\n",
    "from pyspark.ml.feature import MinMaxScaler\n",
    "stages = []\n",
    "cat_cols = ['gender', 'cholesterol', 'gluc', 'smoke', 'alco', 'active']\n",
    "\n",
    "# Create a list of column names for numerical features\n",
    "num_cols = ['age', 'height', 'weight', 'bmi', 'ap_hi', 'ap_lo']\n",
    "\n",
    "# One-hot encoding for categorical columns\n",
    "for col in cat_cols:\n",
    "    indexer = StringIndexer(inputCol=col, outputCol=col + \"_index\")\n",
    "    encoder = OneHotEncoder(inputCols=[indexer.getOutputCol()], outputCols=[col + \"_encoded\"])\n",
    "    stages += [indexer, encoder]\n",
    "\n",
    "# Scaling for numerical columns\n",
    "assembler_inputs = [col + \"_encoded\" for col in cat_cols] + num_cols\n",
    "assembler = VectorAssembler(inputCols=assembler_inputs, outputCol=\"assembled_features\")\n",
    "scaler = MinMaxScaler(inputCol=\"assembled_features\", outputCol=\"scaled_features\")\n",
    "stages += [assembler, scaler]\n",
    "\n",
    "# Step 2: Create the pipeline\n",
    "pipeline = Pipeline(stages=stages)\n",
    "\n",
    "# Step 3: Fit the pipeline to the data\n",
    "pipeline_model = pipeline.fit(df)\n",
    "\n",
    "# Step 4: Transform the data\n",
    "final_df = pipeline_model.transform(df)\n",
    "final_df.cache()\n",
    "final_df.show()"
   ]
  },
  {
   "cell_type": "code",
   "execution_count": 40,
   "metadata": {},
   "outputs": [
    {
     "name": "stdout",
     "output_type": "stream",
     "text": [
      "Accuracy: 0.7938853405868552\n"
     ]
    }
   ],
   "source": [
    "from pyspark.ml.classification import LogisticRegression\n",
    "from pyspark.ml.evaluation import BinaryClassificationEvaluator\n",
    "\n",
    "train_data, test_data = final_df.randomSplit([0.8, 0.2], seed=42)\n",
    "lr = LogisticRegression(labelCol='cardio', featuresCol='scaled_features', maxIter=10)\n",
    "lr_model = lr.fit(train_data)\n",
    "predictions = lr_model.transform(test_data)\n",
    "evaluator = BinaryClassificationEvaluator(labelCol='cardio')\n",
    "accuracy = evaluator.evaluate(predictions)\n",
    "print(f\"Accuracy: {accuracy}\")\n",
    "\n"
   ]
  },
  {
   "cell_type": "code",
   "execution_count": 41,
   "metadata": {},
   "outputs": [
    {
     "name": "stdout",
     "output_type": "stream",
     "text": [
      "+------+----------+--------------------+\n",
      "|cardio|prediction|         probability|\n",
      "+------+----------+--------------------+\n",
      "|     0|       0.0|[0.68210773255308...|\n",
      "|     0|       0.0|[0.76469535740091...|\n",
      "|     1|       1.0|[0.39943227016795...|\n",
      "|     0|       0.0|[0.85942227886446...|\n",
      "|     1|       1.0|[0.44469574418209...|\n",
      "|     1|       1.0|[0.34194283532394...|\n",
      "|     1|       1.0|[0.32062911070137...|\n",
      "|     1|       1.0|[0.03057359671482...|\n",
      "|     1|       1.0|[0.03230269292979...|\n",
      "|     1|       1.0|[0.17973668409037...|\n",
      "|     0|       0.0|[0.63332506974815...|\n",
      "|     1|       1.0|[0.15293653706139...|\n",
      "|     0|       1.0|[0.39342582368157...|\n",
      "|     0|       1.0|[0.40620754308509...|\n",
      "|     0|       0.0|[0.84274374182818...|\n",
      "|     0|       0.0|[0.74626970081715...|\n",
      "|     0|       0.0|[0.62469209449032...|\n",
      "|     1|       1.0|[0.21633966552829...|\n",
      "|     0|       0.0|[0.76535293747104...|\n",
      "|     0|       0.0|[0.90165865055782...|\n",
      "+------+----------+--------------------+\n",
      "only showing top 20 rows\n",
      "\n"
     ]
    }
   ],
   "source": [
    "# Show the predictions and probabilities\n",
    "predictions.select(\"cardio\", \"prediction\", \"probability\").show()"
   ]
  },
  {
   "cell_type": "code",
   "execution_count": 42,
   "metadata": {},
   "outputs": [
    {
     "name": "stdout",
     "output_type": "stream",
     "text": [
      "+------+----------+--------------------+\n",
      "|cardio|prediction|         probability|\n",
      "+------+----------+--------------------+\n",
      "|     0|       0.0|[0.68210773255308...|\n",
      "|     0|       0.0|[0.76469535740091...|\n",
      "|     1|       1.0|[0.39943227016795...|\n",
      "|     0|       0.0|[0.85942227886446...|\n",
      "|     1|       1.0|[0.44469574418209...|\n",
      "|     1|       1.0|[0.34194283532394...|\n",
      "|     1|       1.0|[0.32062911070137...|\n",
      "|     1|       1.0|[0.03057359671482...|\n",
      "|     1|       1.0|[0.03230269292979...|\n",
      "|     1|       1.0|[0.17973668409037...|\n",
      "|     0|       0.0|[0.63332506974815...|\n",
      "|     1|       1.0|[0.15293653706139...|\n",
      "|     0|       1.0|[0.39342582368157...|\n",
      "|     0|       1.0|[0.40620754308509...|\n",
      "|     0|       0.0|[0.84274374182818...|\n",
      "|     0|       0.0|[0.74626970081715...|\n",
      "|     0|       0.0|[0.62469209449032...|\n",
      "|     1|       1.0|[0.21633966552829...|\n",
      "|     0|       0.0|[0.76535293747104...|\n",
      "|     0|       0.0|[0.90165865055782...|\n",
      "+------+----------+--------------------+\n",
      "only showing top 20 rows\n",
      "\n"
     ]
    }
   ],
   "source": [
    "# Make predictions on the test data\n",
    "predictions = lr_model.transform(test_data)\n",
    "# Show the predictions and probabilities\n",
    "predictions.select(\"cardio\", \"prediction\", \"probability\").show()\n"
   ]
  },
  {
   "attachments": {},
   "cell_type": "markdown",
   "metadata": {},
   "source": [
    "# Check Best Model"
   ]
  },
  {
   "cell_type": "code",
   "execution_count": 43,
   "metadata": {},
   "outputs": [
    {
     "name": "stdout",
     "output_type": "stream",
     "text": [
      "Random Forest Accuracy: 0.7937894006852235\n",
      "Gradient Boost Accuracy: 0.8024631056351511\n",
      "Logistic Regression Accuracy: 0.7938853405868552\n",
      "Decision Tree Accuracy: 0.6094376796656572\n",
      "Naive Bayes Accuracy: 0.3985548356767784\n",
      "Linear SVC Accuracy: 0.7930976122358242\n",
      "\n",
      "Best Model: Gradient Boost with Accuracy: 0.8024631056351511\n"
     ]
    }
   ],
   "source": [
    "from pyspark.ml.tuning import ParamGridBuilder, CrossValidator\n",
    "from pyspark.ml.classification import RandomForestClassifier,GBTClassifier,LogisticRegression, DecisionTreeClassifier, NaiveBayes, LinearSVC\n",
    "# Build models using different algorithms\n",
    "models = [\n",
    "    RandomForestClassifier(labelCol='cardio', featuresCol='scaled_features', seed=42),\n",
    "    GBTClassifier(labelCol='cardio',featuresCol='scaled_features',maxIter=10),\n",
    "    LogisticRegression(labelCol='cardio', featuresCol='scaled_features', maxIter=10),\n",
    "    DecisionTreeClassifier(labelCol='cardio', featuresCol='scaled_features', seed=42),\n",
    "    NaiveBayes(labelCol='cardio', featuresCol='scaled_features'),\n",
    "    LinearSVC(labelCol='cardio', featuresCol='scaled_features', maxIter=10)\n",
    "]\n",
    "\n",
    "model_names = [\n",
    "    \"Random Forest\",\n",
    "    \"Gradient Boost\",\n",
    "    \"Logistic Regression\",\n",
    "    \"Decision Tree\",\n",
    "    \"Naive Bayes\",\n",
    "    \"Linear SVC\"\n",
    "]\n",
    "\n",
    "# Define the parameter grid for each model\n",
    "paramGrids = [\n",
    "    ParamGridBuilder().build(),  # Random Forest doesn't require hyperparameter tuning\n",
    "    ParamGridBuilder().build(),  # Logistic Regression doesn't require hyperparameter tuning\n",
    "    ParamGridBuilder().build(),  # Decision Tree doesn't require hyperparameter tuning\n",
    "    ParamGridBuilder().build(),  # Naive Bayes doesn't require hyperparameter tuning\n",
    "    ParamGridBuilder().build(),   # Linear SVC doesn't require hyperparameter tuning\n",
    "    ParamGridBuilder().build()\n",
    "]\n",
    "\n",
    "# Perform cross-validation and select the best model\n",
    "evaluator = BinaryClassificationEvaluator(labelCol='cardio')\n",
    "best_accuracy = 0.0\n",
    "best_model = None\n",
    "best_model_name = None\n",
    "\n",
    "for i, model in enumerate(models):\n",
    "    # Create cross-validator\n",
    "    crossval = CrossValidator(estimator=model,\n",
    "                              estimatorParamMaps=paramGrids[i],\n",
    "                              evaluator=evaluator,\n",
    "                              numFolds=5,\n",
    "                              seed=42)\n",
    "    \n",
    "    # Fit cross-validation models\n",
    "    cv_model = crossval.fit(train_data)\n",
    "    \n",
    "    # Make predictions on the test data\n",
    "    cv_predictions = cv_model.transform(test_data)\n",
    "    \n",
    "    # Evaluate the performance of the model using accuracy\n",
    "    accuracy = evaluator.evaluate(cv_predictions)\n",
    "    \n",
    "    print(f\"{model_names[i]} Accuracy: {accuracy}\")\n",
    "    \n",
    "    if accuracy > best_accuracy:\n",
    "        best_accuracy = accuracy\n",
    "        best_model = cv_model\n",
    "        best_model_name = model_names[i]\n",
    "\n",
    "print(f\"\\nBest Model: {best_model_name} with Accuracy: {best_accuracy}\")"
   ]
  },
  {
   "attachments": {},
   "cell_type": "markdown",
   "metadata": {},
   "source": [
    "# Hyper Parameter Tunning"
   ]
  },
  {
   "cell_type": "code",
   "execution_count": 57,
   "metadata": {},
   "outputs": [
    {
     "name": "stdout",
     "output_type": "stream",
     "text": [
      "Gradient Boosting Classifier Accuracy: 0.8035224089276158\n"
     ]
    }
   ],
   "source": [
    "# Define the Gradient Boosting Classifier\n",
    "gbt = GBTClassifier(labelCol='cardio', featuresCol='scaled_features', seed=42)\n",
    "\n",
    "# Define the parameter grid\n",
    "paramGrid = (ParamGridBuilder()\n",
    "             .addGrid(gbt.maxDepth, [5, 10, 15])\n",
    "             .addGrid(gbt.maxIter, [10, 20, 30])\n",
    "             .addGrid(gbt.stepSize, [0.1, 0.05, 0.01])\n",
    "             .addGrid(gbt.maxBins, [16, 32])\n",
    "             .build())\n",
    "\n",
    "# Define the evaluator\n",
    "evaluator = BinaryClassificationEvaluator(labelCol='cardio')\n",
    "\n",
    "# Create cross-validator\n",
    "crossval = CrossValidator(estimator=gbt,\n",
    "                          estimatorParamMaps=paramGrid,\n",
    "                          evaluator=evaluator,\n",
    "                          numFolds=5,\n",
    "                          seed=42)\n",
    "\n",
    "# Fit cross-validation models\n",
    "cv_model = crossval.fit(train_data)\n",
    "\n",
    "# Make predictions on the test data\n",
    "cv_predictions = cv_model.transform(test_data)\n",
    "\n",
    "# Evaluate the performance of the model using accuracy\n",
    "accuracy = evaluator.evaluate(cv_predictions)\n",
    "\n",
    "print(f\"Gradient Boosting Classifier Accuracy: {accuracy}\")"
   ]
  },
  {
   "cell_type": "code",
   "execution_count": 60,
   "metadata": {},
   "outputs": [
    {
     "name": "stdout",
     "output_type": "stream",
     "text": [
      "+----------+------+\n",
      "|prediction|cardio|\n",
      "+----------+------+\n",
      "|       0.0|     0|\n",
      "|       0.0|     0|\n",
      "|       1.0|     1|\n",
      "|       0.0|     0|\n",
      "|       1.0|     1|\n",
      "|       1.0|     1|\n",
      "|       1.0|     1|\n",
      "|       1.0|     1|\n",
      "|       1.0|     1|\n",
      "|       1.0|     1|\n",
      "|       0.0|     0|\n",
      "|       1.0|     1|\n",
      "|       0.0|     0|\n",
      "|       0.0|     0|\n",
      "|       0.0|     0|\n",
      "|       0.0|     0|\n",
      "|       0.0|     0|\n",
      "|       1.0|     1|\n",
      "|       0.0|     0|\n",
      "|       0.0|     0|\n",
      "+----------+------+\n",
      "only showing top 20 rows\n",
      "\n"
     ]
    }
   ],
   "source": [
    "from pyspark.ml.evaluation import MulticlassClassificationEvaluator\n",
    "# Define the evaluator\n",
    "evaluator = MulticlassClassificationEvaluator(labelCol='cardio', predictionCol='prediction', metricName='accuracy')\n",
    "\n",
    "# Compute the accuracy\n",
    "accuracy = evaluator.evaluate(cv_predictions)\n",
    "\n",
    "# Get the predictions and labels\n",
    "predictionsAndLabels = cv_predictions.select(['prediction', 'cardio']).show()\n",
    "\n"
   ]
  },
  {
   "cell_type": "code",
   "execution_count": 67,
   "metadata": {},
   "outputs": [
    {
     "ename": "ModuleNotFoundError",
     "evalue": "No module named 'mlflow'",
     "output_type": "error",
     "traceback": [
      "\u001b[1;31m---------------------------------------------------------------------------\u001b[0m",
      "\u001b[1;31mModuleNotFoundError\u001b[0m                       Traceback (most recent call last)",
      "Cell \u001b[1;32mIn[67], line 1\u001b[0m\n\u001b[1;32m----> 1\u001b[0m \u001b[39mimport\u001b[39;00m \u001b[39mmlflow\u001b[39;00m\n\u001b[0;32m      3\u001b[0m model_path \u001b[39m=\u001b[39m \u001b[39m'\u001b[39m\u001b[39mD:/Cardio Disease Pyspark Web App/model\u001b[39m\u001b[39m'\u001b[39m\n\u001b[0;32m      4\u001b[0m mlflow\u001b[39m.\u001b[39mspark\u001b[39m.\u001b[39msave_model(cv_model\u001b[39m.\u001b[39mbestModel, model_path)\n",
      "\u001b[1;31mModuleNotFoundError\u001b[0m: No module named 'mlflow'"
     ]
    }
   ],
   "source": [
    "import mlflow\n",
    "\n",
    "model_path = 'D:/Cardio Disease Pyspark Web App/model'\n",
    "mlflow.spark.save_model(cv_model.bestModel, model_path)\n"
   ]
  },
  {
   "attachments": {},
   "cell_type": "markdown",
   "metadata": {},
   "source": [
    "# Plot Results"
   ]
  },
  {
   "cell_type": "code",
   "execution_count": 47,
   "metadata": {},
   "outputs": [
    {
     "ename": "ValueError",
     "evalue": "Found input variables with inconsistent numbers of samples: [14009, 28018]",
     "output_type": "error",
     "traceback": [
      "\u001b[1;31m---------------------------------------------------------------------------\u001b[0m",
      "\u001b[1;31mValueError\u001b[0m                                Traceback (most recent call last)",
      "Cell \u001b[1;32mIn[47], line 17\u001b[0m\n\u001b[0;32m     14\u001b[0m labels \u001b[39m=\u001b[39m labels\u001b[39m.\u001b[39mreshape(\u001b[39m-\u001b[39m\u001b[39m1\u001b[39m)  \u001b[39m# Reshape to a 1-dimensional array\u001b[39;00m\n\u001b[0;32m     16\u001b[0m \u001b[39m# Calculate the False Positive Rate (FPR) and True Positive Rate (TPR) for ROC curve\u001b[39;00m\n\u001b[1;32m---> 17\u001b[0m fpr, tpr, thresholds \u001b[39m=\u001b[39m roc_curve(labels, probs)\n\u001b[0;32m     19\u001b[0m \u001b[39m# Plot ROC curve\u001b[39;00m\n\u001b[0;32m     20\u001b[0m plt\u001b[39m.\u001b[39mplot(fpr, tpr)\n",
      "File \u001b[1;32md:\\Cardio Disease Pyspark Web App\\venv\\lib\\site-packages\\sklearn\\metrics\\_ranking.py:992\u001b[0m, in \u001b[0;36mroc_curve\u001b[1;34m(y_true, y_score, pos_label, sample_weight, drop_intermediate)\u001b[0m\n\u001b[0;32m    904\u001b[0m \u001b[39mdef\u001b[39;00m \u001b[39mroc_curve\u001b[39m(\n\u001b[0;32m    905\u001b[0m     y_true, y_score, \u001b[39m*\u001b[39m, pos_label\u001b[39m=\u001b[39m\u001b[39mNone\u001b[39;00m, sample_weight\u001b[39m=\u001b[39m\u001b[39mNone\u001b[39;00m, drop_intermediate\u001b[39m=\u001b[39m\u001b[39mTrue\u001b[39;00m\n\u001b[0;32m    906\u001b[0m ):\n\u001b[0;32m    907\u001b[0m \u001b[39m    \u001b[39m\u001b[39m\"\"\"Compute Receiver operating characteristic (ROC).\u001b[39;00m\n\u001b[0;32m    908\u001b[0m \n\u001b[0;32m    909\u001b[0m \u001b[39m    Note: this implementation is restricted to the binary classification task.\u001b[39;00m\n\u001b[1;32m   (...)\u001b[0m\n\u001b[0;32m    990\u001b[0m \u001b[39m    array([1.8 , 0.8 , 0.4 , 0.35, 0.1 ])\u001b[39;00m\n\u001b[0;32m    991\u001b[0m \u001b[39m    \"\"\"\u001b[39;00m\n\u001b[1;32m--> 992\u001b[0m     fps, tps, thresholds \u001b[39m=\u001b[39m _binary_clf_curve(\n\u001b[0;32m    993\u001b[0m         y_true, y_score, pos_label\u001b[39m=\u001b[39;49mpos_label, sample_weight\u001b[39m=\u001b[39;49msample_weight\n\u001b[0;32m    994\u001b[0m     )\n\u001b[0;32m    996\u001b[0m     \u001b[39m# Attempt to drop thresholds corresponding to points in between and\u001b[39;00m\n\u001b[0;32m    997\u001b[0m     \u001b[39m# collinear with other points. These are always suboptimal and do not\u001b[39;00m\n\u001b[0;32m    998\u001b[0m     \u001b[39m# appear on a plotted ROC curve (and thus do not affect the AUC).\u001b[39;00m\n\u001b[1;32m   (...)\u001b[0m\n\u001b[0;32m   1003\u001b[0m     \u001b[39m# but does not drop more complicated cases like fps = [1, 3, 7],\u001b[39;00m\n\u001b[0;32m   1004\u001b[0m     \u001b[39m# tps = [1, 2, 4]; there is no harm in keeping too many thresholds.\u001b[39;00m\n\u001b[0;32m   1005\u001b[0m     \u001b[39mif\u001b[39;00m drop_intermediate \u001b[39mand\u001b[39;00m \u001b[39mlen\u001b[39m(fps) \u001b[39m>\u001b[39m \u001b[39m2\u001b[39m:\n",
      "File \u001b[1;32md:\\Cardio Disease Pyspark Web App\\venv\\lib\\site-packages\\sklearn\\metrics\\_ranking.py:751\u001b[0m, in \u001b[0;36m_binary_clf_curve\u001b[1;34m(y_true, y_score, pos_label, sample_weight)\u001b[0m\n\u001b[0;32m    748\u001b[0m \u001b[39mif\u001b[39;00m \u001b[39mnot\u001b[39;00m (y_type \u001b[39m==\u001b[39m \u001b[39m\"\u001b[39m\u001b[39mbinary\u001b[39m\u001b[39m\"\u001b[39m \u001b[39mor\u001b[39;00m (y_type \u001b[39m==\u001b[39m \u001b[39m\"\u001b[39m\u001b[39mmulticlass\u001b[39m\u001b[39m\"\u001b[39m \u001b[39mand\u001b[39;00m pos_label \u001b[39mis\u001b[39;00m \u001b[39mnot\u001b[39;00m \u001b[39mNone\u001b[39;00m)):\n\u001b[0;32m    749\u001b[0m     \u001b[39mraise\u001b[39;00m \u001b[39mValueError\u001b[39;00m(\u001b[39m\"\u001b[39m\u001b[39m{0}\u001b[39;00m\u001b[39m format is not supported\u001b[39m\u001b[39m\"\u001b[39m\u001b[39m.\u001b[39mformat(y_type))\n\u001b[1;32m--> 751\u001b[0m check_consistent_length(y_true, y_score, sample_weight)\n\u001b[0;32m    752\u001b[0m y_true \u001b[39m=\u001b[39m column_or_1d(y_true)\n\u001b[0;32m    753\u001b[0m y_score \u001b[39m=\u001b[39m column_or_1d(y_score)\n",
      "File \u001b[1;32md:\\Cardio Disease Pyspark Web App\\venv\\lib\\site-packages\\sklearn\\utils\\validation.py:397\u001b[0m, in \u001b[0;36mcheck_consistent_length\u001b[1;34m(*arrays)\u001b[0m\n\u001b[0;32m    395\u001b[0m uniques \u001b[39m=\u001b[39m np\u001b[39m.\u001b[39munique(lengths)\n\u001b[0;32m    396\u001b[0m \u001b[39mif\u001b[39;00m \u001b[39mlen\u001b[39m(uniques) \u001b[39m>\u001b[39m \u001b[39m1\u001b[39m:\n\u001b[1;32m--> 397\u001b[0m     \u001b[39mraise\u001b[39;00m \u001b[39mValueError\u001b[39;00m(\n\u001b[0;32m    398\u001b[0m         \u001b[39m\"\u001b[39m\u001b[39mFound input variables with inconsistent numbers of samples: \u001b[39m\u001b[39m%r\u001b[39;00m\u001b[39m\"\u001b[39m\n\u001b[0;32m    399\u001b[0m         \u001b[39m%\u001b[39m [\u001b[39mint\u001b[39m(l) \u001b[39mfor\u001b[39;00m l \u001b[39min\u001b[39;00m lengths]\n\u001b[0;32m    400\u001b[0m     )\n",
      "\u001b[1;31mValueError\u001b[0m: Found input variables with inconsistent numbers of samples: [14009, 28018]"
     ]
    }
   ],
   "source": [
    "import matplotlib.pyplot as plt\n",
    "import numpy as np\n",
    "from sklearn.metrics import roc_curve, confusion_matrix\n",
    "\n",
    "# Make predictions on the test data using the best model\n",
    "predictions = best_model.transform(test_data)\n",
    "\n",
    "# Extract probability of positive class (cardio) from predictions\n",
    "probs = np.array(predictions.select('probability').collect())\n",
    "probs = probs.reshape(-1)  # Reshape to a 1-dimensional array\n",
    "\n",
    "# Extract true labels from test data\n",
    "labels = np.array(predictions.select('cardio').collect())\n",
    "labels = labels.reshape(-1)  # Reshape to a 1-dimensional array\n",
    "\n",
    "# Calculate the False Positive Rate (FPR) and True Positive Rate (TPR) for ROC curve\n",
    "fpr, tpr, thresholds = roc_curve(labels, probs)\n",
    "\n",
    "# Plot ROC curve\n",
    "plt.plot(fpr, tpr)\n",
    "plt.title('Receiver Operating Characteristic (ROC)')\n",
    "plt.xlabel('False Positive Rate (FPR)')\n",
    "plt.ylabel('True Positive Rate (TPR)')\n",
    "plt.show()\n",
    "\n",
    "# Create a confusion matrix to compare actual vs. predicted values\n",
    "cm = confusion_matrix(labels, predictions.select('prediction').collect())\n",
    "print(\"Confusion Matrix:\")\n",
    "print(cm)\n",
    "\n",
    "# Calculate True Positive (TP), False Positive (FP), True Negative (TN), and False Negative (FN) from confusion matrix\n",
    "tn, fp, fn, tp = cm.ravel()\n",
    "\n",
    "# Calculate True Positive Rate (TPR)\n",
    "tpr = tp / (tp + fn)\n",
    "\n",
    "# Calculate False Positive Rate (FPR)\n",
    "fpr = fp / (fp + tn)\n",
    "\n",
    "print(\"True Positive Rate (TPR):\", tpr)\n",
    "print(\"False Positive Rate (FPR):\", fpr)\n"
   ]
  },
  {
   "attachments": {},
   "cell_type": "markdown",
   "metadata": {},
   "source": [
    "# Test Model on Unseen Data"
   ]
  },
  {
   "cell_type": "code",
   "execution_count": 111,
   "metadata": {},
   "outputs": [
    {
     "ename": "Py4JJavaError",
     "evalue": "An error occurred while calling o6933.showString.\n: org.apache.spark.SparkException: Job aborted due to stage failure: Task 2 in stage 392.0 failed 1 times, most recent failure: Lost task 2.0 in stage 392.0 (TID 313) (Golu executor driver): org.apache.spark.SparkException: [FAILED_EXECUTE_UDF] Failed to execute user defined function (StringIndexerModel$$Lambda$4353/0x0000000802291d40: (string) => double).\r\n\tat org.apache.spark.sql.errors.QueryExecutionErrors$.failedExecuteUserDefinedFunctionError(QueryExecutionErrors.scala:217)\r\n\tat org.apache.spark.sql.errors.QueryExecutionErrors.failedExecuteUserDefinedFunctionError(QueryExecutionErrors.scala)\r\n\tat org.apache.spark.sql.catalyst.expressions.GeneratedClass$GeneratedIteratorForCodegenStage1.processNext(Unknown Source)\r\n\tat org.apache.spark.sql.execution.BufferedRowIterator.hasNext(BufferedRowIterator.java:43)\r\n\tat org.apache.spark.sql.execution.WholeStageCodegenExec$$anon$1.hasNext(WholeStageCodegenExec.scala:760)\r\n\tat org.apache.spark.sql.execution.SparkPlan.$anonfun$getByteArrayRdd$1(SparkPlan.scala:388)\r\n\tat org.apache.spark.rdd.RDD.$anonfun$mapPartitionsInternal$2(RDD.scala:888)\r\n\tat org.apache.spark.rdd.RDD.$anonfun$mapPartitionsInternal$2$adapted(RDD.scala:888)\r\n\tat org.apache.spark.rdd.MapPartitionsRDD.compute(MapPartitionsRDD.scala:52)\r\n\tat org.apache.spark.rdd.RDD.computeOrReadCheckpoint(RDD.scala:364)\r\n\tat org.apache.spark.rdd.RDD.iterator(RDD.scala:328)\r\n\tat org.apache.spark.scheduler.ResultTask.runTask(ResultTask.scala:92)\r\n\tat org.apache.spark.TaskContext.runTaskWithListeners(TaskContext.scala:161)\r\n\tat org.apache.spark.scheduler.Task.run(Task.scala:139)\r\n\tat org.apache.spark.executor.Executor$TaskRunner.$anonfun$run$3(Executor.scala:554)\r\n\tat org.apache.spark.util.Utils$.tryWithSafeFinally(Utils.scala:1529)\r\n\tat org.apache.spark.executor.Executor$TaskRunner.run(Executor.scala:557)\r\n\tat java.base/java.util.concurrent.ThreadPoolExecutor.runWorker(ThreadPoolExecutor.java:1144)\r\n\tat java.base/java.util.concurrent.ThreadPoolExecutor$Worker.run(ThreadPoolExecutor.java:642)\r\n\tat java.base/java.lang.Thread.run(Thread.java:1623)\r\nCaused by: org.apache.spark.SparkException: Unseen label: 0. To handle unseen labels, set Param handleInvalid to keep.\r\n\tat org.apache.spark.ml.feature.StringIndexerModel.$anonfun$getIndexer$1(StringIndexer.scala:406)\r\n\tat org.apache.spark.ml.feature.StringIndexerModel.$anonfun$getIndexer$1$adapted(StringIndexer.scala:391)\r\n\t... 18 more\r\n\nDriver stacktrace:\r\n\tat org.apache.spark.scheduler.DAGScheduler.failJobAndIndependentStages(DAGScheduler.scala:2785)\r\n\tat org.apache.spark.scheduler.DAGScheduler.$anonfun$abortStage$2(DAGScheduler.scala:2721)\r\n\tat org.apache.spark.scheduler.DAGScheduler.$anonfun$abortStage$2$adapted(DAGScheduler.scala:2720)\r\n\tat scala.collection.mutable.ResizableArray.foreach(ResizableArray.scala:62)\r\n\tat scala.collection.mutable.ResizableArray.foreach$(ResizableArray.scala:55)\r\n\tat scala.collection.mutable.ArrayBuffer.foreach(ArrayBuffer.scala:49)\r\n\tat org.apache.spark.scheduler.DAGScheduler.abortStage(DAGScheduler.scala:2720)\r\n\tat org.apache.spark.scheduler.DAGScheduler.$anonfun$handleTaskSetFailed$1(DAGScheduler.scala:1206)\r\n\tat org.apache.spark.scheduler.DAGScheduler.$anonfun$handleTaskSetFailed$1$adapted(DAGScheduler.scala:1206)\r\n\tat scala.Option.foreach(Option.scala:407)\r\n\tat org.apache.spark.scheduler.DAGScheduler.handleTaskSetFailed(DAGScheduler.scala:1206)\r\n\tat org.apache.spark.scheduler.DAGSchedulerEventProcessLoop.doOnReceive(DAGScheduler.scala:2984)\r\n\tat org.apache.spark.scheduler.DAGSchedulerEventProcessLoop.onReceive(DAGScheduler.scala:2923)\r\n\tat org.apache.spark.scheduler.DAGSchedulerEventProcessLoop.onReceive(DAGScheduler.scala:2912)\r\n\tat org.apache.spark.util.EventLoop$$anon$1.run(EventLoop.scala:49)\r\n\tat org.apache.spark.scheduler.DAGScheduler.runJob(DAGScheduler.scala:971)\r\n\tat org.apache.spark.SparkContext.runJob(SparkContext.scala:2263)\r\n\tat org.apache.spark.SparkContext.runJob(SparkContext.scala:2284)\r\n\tat org.apache.spark.SparkContext.runJob(SparkContext.scala:2303)\r\n\tat org.apache.spark.sql.execution.SparkPlan.executeTake(SparkPlan.scala:530)\r\n\tat org.apache.spark.sql.execution.SparkPlan.executeTake(SparkPlan.scala:483)\r\n\tat org.apache.spark.sql.execution.CollectLimitExec.executeCollect(limit.scala:61)\r\n\tat org.apache.spark.sql.Dataset.collectFromPlan(Dataset.scala:4177)\r\n\tat org.apache.spark.sql.Dataset.$anonfun$head$1(Dataset.scala:3161)\r\n\tat org.apache.spark.sql.Dataset.$anonfun$withAction$2(Dataset.scala:4167)\r\n\tat org.apache.spark.sql.execution.QueryExecution$.withInternalError(QueryExecution.scala:526)\r\n\tat org.apache.spark.sql.Dataset.$anonfun$withAction$1(Dataset.scala:4165)\r\n\tat org.apache.spark.sql.execution.SQLExecution$.$anonfun$withNewExecutionId$6(SQLExecution.scala:118)\r\n\tat org.apache.spark.sql.execution.SQLExecution$.withSQLConfPropagated(SQLExecution.scala:195)\r\n\tat org.apache.spark.sql.execution.SQLExecution$.$anonfun$withNewExecutionId$1(SQLExecution.scala:103)\r\n\tat org.apache.spark.sql.SparkSession.withActive(SparkSession.scala:827)\r\n\tat org.apache.spark.sql.execution.SQLExecution$.withNewExecutionId(SQLExecution.scala:65)\r\n\tat org.apache.spark.sql.Dataset.withAction(Dataset.scala:4165)\r\n\tat org.apache.spark.sql.Dataset.head(Dataset.scala:3161)\r\n\tat org.apache.spark.sql.Dataset.take(Dataset.scala:3382)\r\n\tat org.apache.spark.sql.Dataset.getRows(Dataset.scala:284)\r\n\tat org.apache.spark.sql.Dataset.showString(Dataset.scala:323)\r\n\tat jdk.internal.reflect.GeneratedMethodAccessor88.invoke(Unknown Source)\r\n\tat java.base/jdk.internal.reflect.DelegatingMethodAccessorImpl.invoke(DelegatingMethodAccessorImpl.java:52)\r\n\tat java.base/java.lang.reflect.Method.invoke(Method.java:578)\r\n\tat py4j.reflection.MethodInvoker.invoke(MethodInvoker.java:244)\r\n\tat py4j.reflection.ReflectionEngine.invoke(ReflectionEngine.java:374)\r\n\tat py4j.Gateway.invoke(Gateway.java:282)\r\n\tat py4j.commands.AbstractCommand.invokeMethod(AbstractCommand.java:132)\r\n\tat py4j.commands.CallCommand.execute(CallCommand.java:79)\r\n\tat py4j.ClientServerConnection.waitForCommands(ClientServerConnection.java:182)\r\n\tat py4j.ClientServerConnection.run(ClientServerConnection.java:106)\r\n\tat java.base/java.lang.Thread.run(Thread.java:1623)\r\nCaused by: org.apache.spark.SparkException: [FAILED_EXECUTE_UDF] Failed to execute user defined function (StringIndexerModel$$Lambda$4353/0x0000000802291d40: (string) => double).\r\n\tat org.apache.spark.sql.errors.QueryExecutionErrors$.failedExecuteUserDefinedFunctionError(QueryExecutionErrors.scala:217)\r\n\tat org.apache.spark.sql.errors.QueryExecutionErrors.failedExecuteUserDefinedFunctionError(QueryExecutionErrors.scala)\r\n\tat org.apache.spark.sql.catalyst.expressions.GeneratedClass$GeneratedIteratorForCodegenStage1.processNext(Unknown Source)\r\n\tat org.apache.spark.sql.execution.BufferedRowIterator.hasNext(BufferedRowIterator.java:43)\r\n\tat org.apache.spark.sql.execution.WholeStageCodegenExec$$anon$1.hasNext(WholeStageCodegenExec.scala:760)\r\n\tat org.apache.spark.sql.execution.SparkPlan.$anonfun$getByteArrayRdd$1(SparkPlan.scala:388)\r\n\tat org.apache.spark.rdd.RDD.$anonfun$mapPartitionsInternal$2(RDD.scala:888)\r\n\tat org.apache.spark.rdd.RDD.$anonfun$mapPartitionsInternal$2$adapted(RDD.scala:888)\r\n\tat org.apache.spark.rdd.MapPartitionsRDD.compute(MapPartitionsRDD.scala:52)\r\n\tat org.apache.spark.rdd.RDD.computeOrReadCheckpoint(RDD.scala:364)\r\n\tat org.apache.spark.rdd.RDD.iterator(RDD.scala:328)\r\n\tat org.apache.spark.scheduler.ResultTask.runTask(ResultTask.scala:92)\r\n\tat org.apache.spark.TaskContext.runTaskWithListeners(TaskContext.scala:161)\r\n\tat org.apache.spark.scheduler.Task.run(Task.scala:139)\r\n\tat org.apache.spark.executor.Executor$TaskRunner.$anonfun$run$3(Executor.scala:554)\r\n\tat org.apache.spark.util.Utils$.tryWithSafeFinally(Utils.scala:1529)\r\n\tat org.apache.spark.executor.Executor$TaskRunner.run(Executor.scala:557)\r\n\tat java.base/java.util.concurrent.ThreadPoolExecutor.runWorker(ThreadPoolExecutor.java:1144)\r\n\tat java.base/java.util.concurrent.ThreadPoolExecutor$Worker.run(ThreadPoolExecutor.java:642)\r\n\t... 1 more\r\nCaused by: org.apache.spark.SparkException: Unseen label: 0. To handle unseen labels, set Param handleInvalid to keep.\r\n\tat org.apache.spark.ml.feature.StringIndexerModel.$anonfun$getIndexer$1(StringIndexer.scala:406)\r\n\tat org.apache.spark.ml.feature.StringIndexerModel.$anonfun$getIndexer$1$adapted(StringIndexer.scala:391)\r\n\t... 18 more\r\n",
     "output_type": "error",
     "traceback": [
      "\u001b[1;31m---------------------------------------------------------------------------\u001b[0m",
      "\u001b[1;31mPy4JJavaError\u001b[0m                             Traceback (most recent call last)",
      "File \u001b[1;32m<timed exec>:34\u001b[0m\n",
      "File \u001b[1;32md:\\Cardio Disease Pyspark Web App\\venv\\lib\\site-packages\\pyspark\\sql\\dataframe.py:899\u001b[0m, in \u001b[0;36mDataFrame.show\u001b[1;34m(self, n, truncate, vertical)\u001b[0m\n\u001b[0;32m    893\u001b[0m     \u001b[39mraise\u001b[39;00m PySparkTypeError(\n\u001b[0;32m    894\u001b[0m         error_class\u001b[39m=\u001b[39m\u001b[39m\"\u001b[39m\u001b[39mNOT_BOOL\u001b[39m\u001b[39m\"\u001b[39m,\n\u001b[0;32m    895\u001b[0m         message_parameters\u001b[39m=\u001b[39m{\u001b[39m\"\u001b[39m\u001b[39marg_name\u001b[39m\u001b[39m\"\u001b[39m: \u001b[39m\"\u001b[39m\u001b[39mvertical\u001b[39m\u001b[39m\"\u001b[39m, \u001b[39m\"\u001b[39m\u001b[39marg_type\u001b[39m\u001b[39m\"\u001b[39m: \u001b[39mtype\u001b[39m(vertical)\u001b[39m.\u001b[39m\u001b[39m__name__\u001b[39m},\n\u001b[0;32m    896\u001b[0m     )\n\u001b[0;32m    898\u001b[0m \u001b[39mif\u001b[39;00m \u001b[39misinstance\u001b[39m(truncate, \u001b[39mbool\u001b[39m) \u001b[39mand\u001b[39;00m truncate:\n\u001b[1;32m--> 899\u001b[0m     \u001b[39mprint\u001b[39m(\u001b[39mself\u001b[39;49m\u001b[39m.\u001b[39;49m_jdf\u001b[39m.\u001b[39;49mshowString(n, \u001b[39m20\u001b[39;49m, vertical))\n\u001b[0;32m    900\u001b[0m \u001b[39melse\u001b[39;00m:\n\u001b[0;32m    901\u001b[0m     \u001b[39mtry\u001b[39;00m:\n",
      "File \u001b[1;32md:\\Cardio Disease Pyspark Web App\\venv\\lib\\site-packages\\py4j\\java_gateway.py:1322\u001b[0m, in \u001b[0;36mJavaMember.__call__\u001b[1;34m(self, *args)\u001b[0m\n\u001b[0;32m   1316\u001b[0m command \u001b[39m=\u001b[39m proto\u001b[39m.\u001b[39mCALL_COMMAND_NAME \u001b[39m+\u001b[39m\\\n\u001b[0;32m   1317\u001b[0m     \u001b[39mself\u001b[39m\u001b[39m.\u001b[39mcommand_header \u001b[39m+\u001b[39m\\\n\u001b[0;32m   1318\u001b[0m     args_command \u001b[39m+\u001b[39m\\\n\u001b[0;32m   1319\u001b[0m     proto\u001b[39m.\u001b[39mEND_COMMAND_PART\n\u001b[0;32m   1321\u001b[0m answer \u001b[39m=\u001b[39m \u001b[39mself\u001b[39m\u001b[39m.\u001b[39mgateway_client\u001b[39m.\u001b[39msend_command(command)\n\u001b[1;32m-> 1322\u001b[0m return_value \u001b[39m=\u001b[39m get_return_value(\n\u001b[0;32m   1323\u001b[0m     answer, \u001b[39mself\u001b[39;49m\u001b[39m.\u001b[39;49mgateway_client, \u001b[39mself\u001b[39;49m\u001b[39m.\u001b[39;49mtarget_id, \u001b[39mself\u001b[39;49m\u001b[39m.\u001b[39;49mname)\n\u001b[0;32m   1325\u001b[0m \u001b[39mfor\u001b[39;00m temp_arg \u001b[39min\u001b[39;00m temp_args:\n\u001b[0;32m   1326\u001b[0m     \u001b[39mif\u001b[39;00m \u001b[39mhasattr\u001b[39m(temp_arg, \u001b[39m\"\u001b[39m\u001b[39m_detach\u001b[39m\u001b[39m\"\u001b[39m):\n",
      "File \u001b[1;32md:\\Cardio Disease Pyspark Web App\\venv\\lib\\site-packages\\pyspark\\errors\\exceptions\\captured.py:169\u001b[0m, in \u001b[0;36mcapture_sql_exception.<locals>.deco\u001b[1;34m(*a, **kw)\u001b[0m\n\u001b[0;32m    167\u001b[0m \u001b[39mdef\u001b[39;00m \u001b[39mdeco\u001b[39m(\u001b[39m*\u001b[39ma: Any, \u001b[39m*\u001b[39m\u001b[39m*\u001b[39mkw: Any) \u001b[39m-\u001b[39m\u001b[39m>\u001b[39m Any:\n\u001b[0;32m    168\u001b[0m     \u001b[39mtry\u001b[39;00m:\n\u001b[1;32m--> 169\u001b[0m         \u001b[39mreturn\u001b[39;00m f(\u001b[39m*\u001b[39ma, \u001b[39m*\u001b[39m\u001b[39m*\u001b[39mkw)\n\u001b[0;32m    170\u001b[0m     \u001b[39mexcept\u001b[39;00m Py4JJavaError \u001b[39mas\u001b[39;00m e:\n\u001b[0;32m    171\u001b[0m         converted \u001b[39m=\u001b[39m convert_exception(e\u001b[39m.\u001b[39mjava_exception)\n",
      "File \u001b[1;32md:\\Cardio Disease Pyspark Web App\\venv\\lib\\site-packages\\py4j\\protocol.py:326\u001b[0m, in \u001b[0;36mget_return_value\u001b[1;34m(answer, gateway_client, target_id, name)\u001b[0m\n\u001b[0;32m    324\u001b[0m value \u001b[39m=\u001b[39m OUTPUT_CONVERTER[\u001b[39mtype\u001b[39m](answer[\u001b[39m2\u001b[39m:], gateway_client)\n\u001b[0;32m    325\u001b[0m \u001b[39mif\u001b[39;00m answer[\u001b[39m1\u001b[39m] \u001b[39m==\u001b[39m REFERENCE_TYPE:\n\u001b[1;32m--> 326\u001b[0m     \u001b[39mraise\u001b[39;00m Py4JJavaError(\n\u001b[0;32m    327\u001b[0m         \u001b[39m\"\u001b[39m\u001b[39mAn error occurred while calling \u001b[39m\u001b[39m{0}\u001b[39;00m\u001b[39m{1}\u001b[39;00m\u001b[39m{2}\u001b[39;00m\u001b[39m.\u001b[39m\u001b[39m\\n\u001b[39;00m\u001b[39m\"\u001b[39m\u001b[39m.\u001b[39m\n\u001b[0;32m    328\u001b[0m         \u001b[39mformat\u001b[39m(target_id, \u001b[39m\"\u001b[39m\u001b[39m.\u001b[39m\u001b[39m\"\u001b[39m, name), value)\n\u001b[0;32m    329\u001b[0m \u001b[39melse\u001b[39;00m:\n\u001b[0;32m    330\u001b[0m     \u001b[39mraise\u001b[39;00m Py4JError(\n\u001b[0;32m    331\u001b[0m         \u001b[39m\"\u001b[39m\u001b[39mAn error occurred while calling \u001b[39m\u001b[39m{0}\u001b[39;00m\u001b[39m{1}\u001b[39;00m\u001b[39m{2}\u001b[39;00m\u001b[39m. Trace:\u001b[39m\u001b[39m\\n\u001b[39;00m\u001b[39m{3}\u001b[39;00m\u001b[39m\\n\u001b[39;00m\u001b[39m\"\u001b[39m\u001b[39m.\u001b[39m\n\u001b[0;32m    332\u001b[0m         \u001b[39mformat\u001b[39m(target_id, \u001b[39m\"\u001b[39m\u001b[39m.\u001b[39m\u001b[39m\"\u001b[39m, name, value))\n",
      "\u001b[1;31mPy4JJavaError\u001b[0m: An error occurred while calling o6933.showString.\n: org.apache.spark.SparkException: Job aborted due to stage failure: Task 2 in stage 392.0 failed 1 times, most recent failure: Lost task 2.0 in stage 392.0 (TID 313) (Golu executor driver): org.apache.spark.SparkException: [FAILED_EXECUTE_UDF] Failed to execute user defined function (StringIndexerModel$$Lambda$4353/0x0000000802291d40: (string) => double).\r\n\tat org.apache.spark.sql.errors.QueryExecutionErrors$.failedExecuteUserDefinedFunctionError(QueryExecutionErrors.scala:217)\r\n\tat org.apache.spark.sql.errors.QueryExecutionErrors.failedExecuteUserDefinedFunctionError(QueryExecutionErrors.scala)\r\n\tat org.apache.spark.sql.catalyst.expressions.GeneratedClass$GeneratedIteratorForCodegenStage1.processNext(Unknown Source)\r\n\tat org.apache.spark.sql.execution.BufferedRowIterator.hasNext(BufferedRowIterator.java:43)\r\n\tat org.apache.spark.sql.execution.WholeStageCodegenExec$$anon$1.hasNext(WholeStageCodegenExec.scala:760)\r\n\tat org.apache.spark.sql.execution.SparkPlan.$anonfun$getByteArrayRdd$1(SparkPlan.scala:388)\r\n\tat org.apache.spark.rdd.RDD.$anonfun$mapPartitionsInternal$2(RDD.scala:888)\r\n\tat org.apache.spark.rdd.RDD.$anonfun$mapPartitionsInternal$2$adapted(RDD.scala:888)\r\n\tat org.apache.spark.rdd.MapPartitionsRDD.compute(MapPartitionsRDD.scala:52)\r\n\tat org.apache.spark.rdd.RDD.computeOrReadCheckpoint(RDD.scala:364)\r\n\tat org.apache.spark.rdd.RDD.iterator(RDD.scala:328)\r\n\tat org.apache.spark.scheduler.ResultTask.runTask(ResultTask.scala:92)\r\n\tat org.apache.spark.TaskContext.runTaskWithListeners(TaskContext.scala:161)\r\n\tat org.apache.spark.scheduler.Task.run(Task.scala:139)\r\n\tat org.apache.spark.executor.Executor$TaskRunner.$anonfun$run$3(Executor.scala:554)\r\n\tat org.apache.spark.util.Utils$.tryWithSafeFinally(Utils.scala:1529)\r\n\tat org.apache.spark.executor.Executor$TaskRunner.run(Executor.scala:557)\r\n\tat java.base/java.util.concurrent.ThreadPoolExecutor.runWorker(ThreadPoolExecutor.java:1144)\r\n\tat java.base/java.util.concurrent.ThreadPoolExecutor$Worker.run(ThreadPoolExecutor.java:642)\r\n\tat java.base/java.lang.Thread.run(Thread.java:1623)\r\nCaused by: org.apache.spark.SparkException: Unseen label: 0. To handle unseen labels, set Param handleInvalid to keep.\r\n\tat org.apache.spark.ml.feature.StringIndexerModel.$anonfun$getIndexer$1(StringIndexer.scala:406)\r\n\tat org.apache.spark.ml.feature.StringIndexerModel.$anonfun$getIndexer$1$adapted(StringIndexer.scala:391)\r\n\t... 18 more\r\n\nDriver stacktrace:\r\n\tat org.apache.spark.scheduler.DAGScheduler.failJobAndIndependentStages(DAGScheduler.scala:2785)\r\n\tat org.apache.spark.scheduler.DAGScheduler.$anonfun$abortStage$2(DAGScheduler.scala:2721)\r\n\tat org.apache.spark.scheduler.DAGScheduler.$anonfun$abortStage$2$adapted(DAGScheduler.scala:2720)\r\n\tat scala.collection.mutable.ResizableArray.foreach(ResizableArray.scala:62)\r\n\tat scala.collection.mutable.ResizableArray.foreach$(ResizableArray.scala:55)\r\n\tat scala.collection.mutable.ArrayBuffer.foreach(ArrayBuffer.scala:49)\r\n\tat org.apache.spark.scheduler.DAGScheduler.abortStage(DAGScheduler.scala:2720)\r\n\tat org.apache.spark.scheduler.DAGScheduler.$anonfun$handleTaskSetFailed$1(DAGScheduler.scala:1206)\r\n\tat org.apache.spark.scheduler.DAGScheduler.$anonfun$handleTaskSetFailed$1$adapted(DAGScheduler.scala:1206)\r\n\tat scala.Option.foreach(Option.scala:407)\r\n\tat org.apache.spark.scheduler.DAGScheduler.handleTaskSetFailed(DAGScheduler.scala:1206)\r\n\tat org.apache.spark.scheduler.DAGSchedulerEventProcessLoop.doOnReceive(DAGScheduler.scala:2984)\r\n\tat org.apache.spark.scheduler.DAGSchedulerEventProcessLoop.onReceive(DAGScheduler.scala:2923)\r\n\tat org.apache.spark.scheduler.DAGSchedulerEventProcessLoop.onReceive(DAGScheduler.scala:2912)\r\n\tat org.apache.spark.util.EventLoop$$anon$1.run(EventLoop.scala:49)\r\n\tat org.apache.spark.scheduler.DAGScheduler.runJob(DAGScheduler.scala:971)\r\n\tat org.apache.spark.SparkContext.runJob(SparkContext.scala:2263)\r\n\tat org.apache.spark.SparkContext.runJob(SparkContext.scala:2284)\r\n\tat org.apache.spark.SparkContext.runJob(SparkContext.scala:2303)\r\n\tat org.apache.spark.sql.execution.SparkPlan.executeTake(SparkPlan.scala:530)\r\n\tat org.apache.spark.sql.execution.SparkPlan.executeTake(SparkPlan.scala:483)\r\n\tat org.apache.spark.sql.execution.CollectLimitExec.executeCollect(limit.scala:61)\r\n\tat org.apache.spark.sql.Dataset.collectFromPlan(Dataset.scala:4177)\r\n\tat org.apache.spark.sql.Dataset.$anonfun$head$1(Dataset.scala:3161)\r\n\tat org.apache.spark.sql.Dataset.$anonfun$withAction$2(Dataset.scala:4167)\r\n\tat org.apache.spark.sql.execution.QueryExecution$.withInternalError(QueryExecution.scala:526)\r\n\tat org.apache.spark.sql.Dataset.$anonfun$withAction$1(Dataset.scala:4165)\r\n\tat org.apache.spark.sql.execution.SQLExecution$.$anonfun$withNewExecutionId$6(SQLExecution.scala:118)\r\n\tat org.apache.spark.sql.execution.SQLExecution$.withSQLConfPropagated(SQLExecution.scala:195)\r\n\tat org.apache.spark.sql.execution.SQLExecution$.$anonfun$withNewExecutionId$1(SQLExecution.scala:103)\r\n\tat org.apache.spark.sql.SparkSession.withActive(SparkSession.scala:827)\r\n\tat org.apache.spark.sql.execution.SQLExecution$.withNewExecutionId(SQLExecution.scala:65)\r\n\tat org.apache.spark.sql.Dataset.withAction(Dataset.scala:4165)\r\n\tat org.apache.spark.sql.Dataset.head(Dataset.scala:3161)\r\n\tat org.apache.spark.sql.Dataset.take(Dataset.scala:3382)\r\n\tat org.apache.spark.sql.Dataset.getRows(Dataset.scala:284)\r\n\tat org.apache.spark.sql.Dataset.showString(Dataset.scala:323)\r\n\tat jdk.internal.reflect.GeneratedMethodAccessor88.invoke(Unknown Source)\r\n\tat java.base/jdk.internal.reflect.DelegatingMethodAccessorImpl.invoke(DelegatingMethodAccessorImpl.java:52)\r\n\tat java.base/java.lang.reflect.Method.invoke(Method.java:578)\r\n\tat py4j.reflection.MethodInvoker.invoke(MethodInvoker.java:244)\r\n\tat py4j.reflection.ReflectionEngine.invoke(ReflectionEngine.java:374)\r\n\tat py4j.Gateway.invoke(Gateway.java:282)\r\n\tat py4j.commands.AbstractCommand.invokeMethod(AbstractCommand.java:132)\r\n\tat py4j.commands.CallCommand.execute(CallCommand.java:79)\r\n\tat py4j.ClientServerConnection.waitForCommands(ClientServerConnection.java:182)\r\n\tat py4j.ClientServerConnection.run(ClientServerConnection.java:106)\r\n\tat java.base/java.lang.Thread.run(Thread.java:1623)\r\nCaused by: org.apache.spark.SparkException: [FAILED_EXECUTE_UDF] Failed to execute user defined function (StringIndexerModel$$Lambda$4353/0x0000000802291d40: (string) => double).\r\n\tat org.apache.spark.sql.errors.QueryExecutionErrors$.failedExecuteUserDefinedFunctionError(QueryExecutionErrors.scala:217)\r\n\tat org.apache.spark.sql.errors.QueryExecutionErrors.failedExecuteUserDefinedFunctionError(QueryExecutionErrors.scala)\r\n\tat org.apache.spark.sql.catalyst.expressions.GeneratedClass$GeneratedIteratorForCodegenStage1.processNext(Unknown Source)\r\n\tat org.apache.spark.sql.execution.BufferedRowIterator.hasNext(BufferedRowIterator.java:43)\r\n\tat org.apache.spark.sql.execution.WholeStageCodegenExec$$anon$1.hasNext(WholeStageCodegenExec.scala:760)\r\n\tat org.apache.spark.sql.execution.SparkPlan.$anonfun$getByteArrayRdd$1(SparkPlan.scala:388)\r\n\tat org.apache.spark.rdd.RDD.$anonfun$mapPartitionsInternal$2(RDD.scala:888)\r\n\tat org.apache.spark.rdd.RDD.$anonfun$mapPartitionsInternal$2$adapted(RDD.scala:888)\r\n\tat org.apache.spark.rdd.MapPartitionsRDD.compute(MapPartitionsRDD.scala:52)\r\n\tat org.apache.spark.rdd.RDD.computeOrReadCheckpoint(RDD.scala:364)\r\n\tat org.apache.spark.rdd.RDD.iterator(RDD.scala:328)\r\n\tat org.apache.spark.scheduler.ResultTask.runTask(ResultTask.scala:92)\r\n\tat org.apache.spark.TaskContext.runTaskWithListeners(TaskContext.scala:161)\r\n\tat org.apache.spark.scheduler.Task.run(Task.scala:139)\r\n\tat org.apache.spark.executor.Executor$TaskRunner.$anonfun$run$3(Executor.scala:554)\r\n\tat org.apache.spark.util.Utils$.tryWithSafeFinally(Utils.scala:1529)\r\n\tat org.apache.spark.executor.Executor$TaskRunner.run(Executor.scala:557)\r\n\tat java.base/java.util.concurrent.ThreadPoolExecutor.runWorker(ThreadPoolExecutor.java:1144)\r\n\tat java.base/java.util.concurrent.ThreadPoolExecutor$Worker.run(ThreadPoolExecutor.java:642)\r\n\t... 1 more\r\nCaused by: org.apache.spark.SparkException: Unseen label: 0. To handle unseen labels, set Param handleInvalid to keep.\r\n\tat org.apache.spark.ml.feature.StringIndexerModel.$anonfun$getIndexer$1(StringIndexer.scala:406)\r\n\tat org.apache.spark.ml.feature.StringIndexerModel.$anonfun$getIndexer$1$adapted(StringIndexer.scala:391)\r\n\t... 18 more\r\n"
     ]
    }
   ],
   "source": [
    "%%time\n",
    "from pyspark.sql.types import StructType, StructField, IntegerType, DoubleType\n",
    "\n",
    "# Define the schema for the new data\n",
    "schema = StructType([\n",
    "    StructField(\"gender\", IntegerType(), True),\n",
    "    StructField(\"cholesterol\", IntegerType(), True),\n",
    "    StructField(\"gluc\", IntegerType(), True),\n",
    "    StructField(\"smoke\", IntegerType(), True),\n",
    "    StructField(\"alco\", IntegerType(), True),\n",
    "    StructField(\"active\", IntegerType(), True),\n",
    "    StructField(\"age\", IntegerType(), True),\n",
    "    StructField(\"height\", IntegerType(), True),\n",
    "    StructField(\"weight\", IntegerType(), True),\n",
    "    StructField(\"bmi\", DoubleType(), True),\n",
    "    StructField(\"ap_hi\", IntegerType(), True),\n",
    "    StructField(\"ap_lo\", IntegerType(), True)\n",
    "])\n",
    "# Create new data points\n",
    "new_data = [\n",
    "    (1, 1, 1, 0, 1, 1, 50, 160, 60, 23.4, 120, 80),  # Example 1\n",
    "    (0, 2, 1, 1, 0, 0, 65, 170, 70, 24.2, 130, 90)   # Example 2\n",
    "]\n",
    "\n",
    "# Create a DataFrame for the new data\n",
    "new_data_df = spark.createDataFrame(new_data, schema)\n",
    "\n",
    "# Transform the new data using the pipeline\n",
    "new_data_transformed = pipeline_model.transform(new_data_df)\n",
    "\n",
    "# Make predictions on the new data\n",
    "predictions = lr_model.transform(new_data_transformed)\n",
    "\n",
    "# Show the predictions and probabilities\n",
    "predictions.select(\"prediction\", \"probability\").show()\n"
   ]
  },
  {
   "cell_type": "code",
   "execution_count": null,
   "metadata": {},
   "outputs": [],
   "source": [
    "spark.stop()"
   ]
  }
 ],
 "metadata": {
  "kernelspec": {
   "display_name": "Python 3",
   "language": "python",
   "name": "python3"
  },
  "language_info": {
   "codemirror_mode": {
    "name": "ipython",
    "version": 3
   },
   "file_extension": ".py",
   "mimetype": "text/x-python",
   "name": "python",
   "nbconvert_exporter": "python",
   "pygments_lexer": "ipython3",
   "version": "3.10.0"
  },
  "orig_nbformat": 4
 },
 "nbformat": 4,
 "nbformat_minor": 2
}
